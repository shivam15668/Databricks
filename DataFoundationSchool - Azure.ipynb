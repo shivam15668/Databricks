{
 "cells": [
  {
   "cell_type": "markdown",
   "metadata": {
    "application/vnd.databricks.v1+cell": {
     "cellMetadata": {},
     "inputWidgets": {},
     "nuid": "cdc7451c-9fa6-4d0b-bdd9-a58f34893e61",
     "showTitle": false,
     "tableResultSettingsMap": {},
     "title": ""
    }
   },
   "source": [
    "### When to use Azure SQL Data warehouse\n",
    "\n",
    "<li> Most appropriate when you need to keep         historical data separate from source transaction system for performance reasons </li> \n",
    "<li> lots of read, write </li>\n",
    "<li> grow or shrink compute power without moving data </li>\n",
    "<li> can pause compute capacity, cost for only storage </li>\n",
    "<li> resume compute during operational hours</li>\n",
    "\n",
    "#### Massive Parallel Processing Engine\n",
    "\n",
    "<li> Control node -> MPP  front end that interacts with all applications and connections. The MPP engine runs on control node to optimize and coordinate parallel queries. </li>\n",
    "\n",
    "<li> Compute Node -> provide computational power for analytics. separated from storage nodes. the are scaled using data warehouse units (DWU) </li>\n",
    "\n",
    "<li> DWU -> Analytic resources that are provisioned. cobmination of cpu, memory, io. can be scaled down or up.\n",
    "\n",
    "<li> Data Movement Services (DMS) -> data transport technology that coordinate data movements between compute nodes. when sql warehouse runs a query, the work is divided into 60 smaller queries that run in parallel.\n",
    "\n",
    "<li> Storage node -> separate from compute in order to keep data at rest. cheaper that data being analyzed.\n",
    "\n",
    "### Implementing data distribution for sql data warehouse\n",
    "\n",
    "<li> Replicated tables -> mostly used with small tables, have an instace caching on each of the compute nodes.\n",
    "\n",
    "<li> Round robin -> distributed data evenly across the table without additional optimization. rewquires resuffling, takes time.\n",
    "\n",
    "<li> Hash distibuted table -> A hash function is used to assign each row to one distibution deterministically. used for large tables, best with joins and aggregation.\n",
    "\n",
    "### Partitioning the data in data warehouse\n",
    "\n",
    "<li> helps in dividing data into smaller groups\n",
    " -> improve efficiency and performance of loading data by use of partition deletion, switching and merging.\n",
    " -> usually data is partitioned on a date column tied to when the data is loaded into the database\n",
    " ->can also be used to improve query performance\n",
    "\n",
    "<li> Clustered Columnstore -> updateable primary storage method. great for read only.\n",
    "\n",
    "<li> Clustered Index -> An index that is physically stored in the same order as the data being indexed.\n",
    "\n",
    "<li> Heap -> Data is not in any particular order. use when data has no natural order.\n",
    "\n",
    "\n",
    "<li> Sizing Partitions : creating a table with too many partitions can hurt performance under some circumstance.\n",
    "-> usually a successful partitioning scheme has 10 or a few hundred partitions.\n",
    "-> Clustered Columnstore tables -> it is important to consider how many rows belong to each partition.\n",
    "-> Before partitions are created, sql data warehouse already divides each table into 60 distributed databases.\n",
    "\n",
    "### Deploying a data warehouse in Microsoft azure synapse analytics\n",
    "\n",
    "1. deploy a data warehouse in microsoft anzure synapse analytics\n",
    "2. connect to data warehouse\n",
    "3. Prepare data warehouse to load data \n",
    "4. Examine configuration settings and tasks in the portal.\n",
    "\n",
    "-> SQL pool is sql data warehouse. \n",
    "\n",
    "\n"
   ]
  }
 ],
 "metadata": {
  "application/vnd.databricks.v1+notebook": {
   "computePreferences": null,
   "dashboards": [],
   "environmentMetadata": {
    "base_environment": "",
    "environment_version": "2"
   },
   "inputWidgetPreferences": null,
   "language": "python",
   "notebookMetadata": {
    "pythonIndentUnit": 4
   },
   "notebookName": "DataFoundationSchool - Azure",
   "widgets": {}
  },
  "language_info": {
   "name": "python"
  }
 },
 "nbformat": 4,
 "nbformat_minor": 0
}
